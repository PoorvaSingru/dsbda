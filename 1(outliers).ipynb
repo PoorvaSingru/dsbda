{
 "cells": [
  {
   "cell_type": "code",
   "execution_count": 1,
   "id": "4dafc68c-23ae-43eb-8421-425f160f0fc8",
   "metadata": {},
   "outputs": [],
   "source": [
    "import numpy as np\n",
    "import pandas as pd\n",
    "import matplotlib.pyplot as plt "
   ]
  },
  {
   "cell_type": "code",
   "execution_count": 11,
   "id": "79b15e99-80c4-4ccf-b495-20904a7fd9ae",
   "metadata": {
    "scrolled": true
   },
   "outputs": [],
   "source": [
    "df=pd.read_csv(r\"C:\\Users\\LENOVO\\OneDrive\\Desktop\\downloads\\Academic_Performance.csv\")"
   ]
  },
  {
   "cell_type": "code",
   "execution_count": 12,
   "id": "0541a6a5-5f6b-42dc-aa29-47f743ab277b",
   "metadata": {},
   "outputs": [
    {
     "data": {
      "text/html": [
       "<div>\n",
       "<style scoped>\n",
       "    .dataframe tbody tr th:only-of-type {\n",
       "        vertical-align: middle;\n",
       "    }\n",
       "\n",
       "    .dataframe tbody tr th {\n",
       "        vertical-align: top;\n",
       "    }\n",
       "\n",
       "    .dataframe thead th {\n",
       "        text-align: right;\n",
       "    }\n",
       "</style>\n",
       "<table border=\"1\" class=\"dataframe\">\n",
       "  <thead>\n",
       "    <tr style=\"text-align: right;\">\n",
       "      <th></th>\n",
       "      <th>COURSE 1 MARKS</th>\n",
       "      <th>COURSE 2 MARKS</th>\n",
       "      <th>COURSE 3 MARKS</th>\n",
       "      <th>COURSE 4 MARKS</th>\n",
       "      <th>COURSE 5 MARKS</th>\n",
       "      <th>PERCENTILE</th>\n",
       "    </tr>\n",
       "  </thead>\n",
       "  <tbody>\n",
       "    <tr>\n",
       "      <th>count</th>\n",
       "      <td>12400.000000</td>\n",
       "      <td>12403.000000</td>\n",
       "      <td>12397.000000</td>\n",
       "      <td>12397.000000</td>\n",
       "      <td>12389.000000</td>\n",
       "      <td>12411.000000</td>\n",
       "    </tr>\n",
       "    <tr>\n",
       "      <th>mean</th>\n",
       "      <td>77.385887</td>\n",
       "      <td>62.191728</td>\n",
       "      <td>59.189562</td>\n",
       "      <td>67.501815</td>\n",
       "      <td>53.690532</td>\n",
       "      <td>68.446459</td>\n",
       "    </tr>\n",
       "    <tr>\n",
       "      <th>std</th>\n",
       "      <td>22.716227</td>\n",
       "      <td>27.669357</td>\n",
       "      <td>29.002446</td>\n",
       "      <td>25.505280</td>\n",
       "      <td>30.007993</td>\n",
       "      <td>25.867550</td>\n",
       "    </tr>\n",
       "    <tr>\n",
       "      <th>min</th>\n",
       "      <td>-1.000000</td>\n",
       "      <td>1.000000</td>\n",
       "      <td>1.000000</td>\n",
       "      <td>1.000000</td>\n",
       "      <td>0.000000</td>\n",
       "      <td>1.000000</td>\n",
       "    </tr>\n",
       "    <tr>\n",
       "      <th>25%</th>\n",
       "      <td>65.000000</td>\n",
       "      <td>42.000000</td>\n",
       "      <td>36.000000</td>\n",
       "      <td>51.000000</td>\n",
       "      <td>28.000000</td>\n",
       "      <td>51.000000</td>\n",
       "    </tr>\n",
       "    <tr>\n",
       "      <th>50%</th>\n",
       "      <td>85.000000</td>\n",
       "      <td>67.000000</td>\n",
       "      <td>65.000000</td>\n",
       "      <td>74.000000</td>\n",
       "      <td>56.000000</td>\n",
       "      <td>75.000000</td>\n",
       "    </tr>\n",
       "    <tr>\n",
       "      <th>75%</th>\n",
       "      <td>96.000000</td>\n",
       "      <td>86.000000</td>\n",
       "      <td>85.000000</td>\n",
       "      <td>88.000000</td>\n",
       "      <td>80.000000</td>\n",
       "      <td>90.000000</td>\n",
       "    </tr>\n",
       "    <tr>\n",
       "      <th>max</th>\n",
       "      <td>100.000000</td>\n",
       "      <td>100.000000</td>\n",
       "      <td>122.000000</td>\n",
       "      <td>111.000000</td>\n",
       "      <td>107.000000</td>\n",
       "      <td>100.000000</td>\n",
       "    </tr>\n",
       "  </tbody>\n",
       "</table>\n",
       "</div>"
      ],
      "text/plain": [
       "       COURSE 1 MARKS  COURSE 2 MARKS  COURSE 3 MARKS  COURSE 4 MARKS  \\\n",
       "count    12400.000000    12403.000000    12397.000000    12397.000000   \n",
       "mean        77.385887       62.191728       59.189562       67.501815   \n",
       "std         22.716227       27.669357       29.002446       25.505280   \n",
       "min         -1.000000        1.000000        1.000000        1.000000   \n",
       "25%         65.000000       42.000000       36.000000       51.000000   \n",
       "50%         85.000000       67.000000       65.000000       74.000000   \n",
       "75%         96.000000       86.000000       85.000000       88.000000   \n",
       "max        100.000000      100.000000      122.000000      111.000000   \n",
       "\n",
       "       COURSE 5 MARKS    PERCENTILE  \n",
       "count    12389.000000  12411.000000  \n",
       "mean        53.690532     68.446459  \n",
       "std         30.007993     25.867550  \n",
       "min          0.000000      1.000000  \n",
       "25%         28.000000     51.000000  \n",
       "50%         56.000000     75.000000  \n",
       "75%         80.000000     90.000000  \n",
       "max        107.000000    100.000000  "
      ]
     },
     "execution_count": 12,
     "metadata": {},
     "output_type": "execute_result"
    }
   ],
   "source": [
    "df.describe()"
   ]
  },
  {
   "cell_type": "code",
   "execution_count": 13,
   "id": "c533adc7-c5ed-459b-9a6e-2eb54c42ef47",
   "metadata": {},
   "outputs": [
    {
     "name": "stdout",
     "output_type": "stream",
     "text": [
      "<class 'pandas.core.frame.DataFrame'>\n",
      "RangeIndex: 12411 entries, 0 to 12410\n",
      "Data columns (total 13 columns):\n",
      " #   Column              Non-Null Count  Dtype  \n",
      "---  ------              --------------  -----  \n",
      " 0   STUDENT_ID          12411 non-null  object \n",
      " 1   GENDER              12389 non-null  object \n",
      " 2   PLACEMENT           12396 non-null  object \n",
      " 3   HONOR_OPTED_OR_NOT  12397 non-null  object \n",
      " 4   EDUCATION_TYPE      12396 non-null  object \n",
      " 5   ACADEMIC_PROGRAM    12377 non-null  object \n",
      " 6   COURSE 1 MARKS      12400 non-null  float64\n",
      " 7   COURSE 2 MARKS      12403 non-null  float64\n",
      " 8   COURSE 3 MARKS      12397 non-null  float64\n",
      " 9   COURSE 4 MARKS      12397 non-null  float64\n",
      " 10  COURSE 5 MARKS      12389 non-null  float64\n",
      " 11  PERCENTILE          12411 non-null  int64  \n",
      " 12  OVEARLL_GRADE       12411 non-null  object \n",
      "dtypes: float64(5), int64(1), object(7)\n",
      "memory usage: 1.2+ MB\n"
     ]
    }
   ],
   "source": [
    "df.info()\n"
   ]
  },
  {
   "cell_type": "code",
   "execution_count": 15,
   "id": "9191e05f-1446-438e-9615-db262f8ad25a",
   "metadata": {},
   "outputs": [
    {
     "data": {
      "text/plain": [
       "(12411, 13)"
      ]
     },
     "execution_count": 15,
     "metadata": {},
     "output_type": "execute_result"
    }
   ],
   "source": [
    "df.shape"
   ]
  },
  {
   "cell_type": "code",
   "execution_count": 16,
   "id": "e01ab67f-d3df-4b96-984b-7ecabedf39d1",
   "metadata": {},
   "outputs": [
    {
     "data": {
      "text/plain": [
       "STUDENT_ID             object\n",
       "GENDER                 object\n",
       "PLACEMENT              object\n",
       "HONOR_OPTED_OR_NOT     object\n",
       "EDUCATION_TYPE         object\n",
       "ACADEMIC_PROGRAM       object\n",
       "COURSE 1 MARKS        float64\n",
       "COURSE 2 MARKS        float64\n",
       "COURSE 3 MARKS        float64\n",
       "COURSE 4 MARKS        float64\n",
       "COURSE 5 MARKS        float64\n",
       "PERCENTILE              int64\n",
       "OVEARLL_GRADE          object\n",
       "dtype: object"
      ]
     },
     "execution_count": 16,
     "metadata": {},
     "output_type": "execute_result"
    }
   ],
   "source": [
    "df.dtypes"
   ]
  },
  {
   "cell_type": "code",
   "execution_count": 18,
   "id": "48d815b6-2bd3-4946-9850-42fb79ae6067",
   "metadata": {},
   "outputs": [
    {
     "data": {
      "text/plain": [
       "STUDENT_ID             0\n",
       "GENDER                22\n",
       "PLACEMENT             15\n",
       "HONOR_OPTED_OR_NOT    14\n",
       "EDUCATION_TYPE        15\n",
       "ACADEMIC_PROGRAM      34\n",
       "COURSE 1 MARKS        11\n",
       "COURSE 2 MARKS         8\n",
       "COURSE 3 MARKS        14\n",
       "COURSE 4 MARKS        14\n",
       "COURSE 5 MARKS        22\n",
       "PERCENTILE             0\n",
       "OVEARLL_GRADE          0\n",
       "dtype: int64"
      ]
     },
     "execution_count": 18,
     "metadata": {},
     "output_type": "execute_result"
    }
   ],
   "source": [
    "df.isnull().sum()"
   ]
  },
  {
   "cell_type": "code",
   "execution_count": 19,
   "id": "9f37b703-ad7d-4b1d-9f1f-112fcb7fa43e",
   "metadata": {},
   "outputs": [],
   "source": [
    "numeric_cols=df.select_dtypes(include='number').columns\n",
    "categorial_cols=df.select_dtypes(include='object').columns\n"
   ]
  },
  {
   "cell_type": "code",
   "execution_count": 20,
   "id": "8b114501-7f89-49fc-ad00-ea543c7c1b81",
   "metadata": {},
   "outputs": [],
   "source": [
    "df[numeric_cols]=df[numeric_cols].fillna(df[numeric_cols].mean())"
   ]
  },
  {
   "cell_type": "code",
   "execution_count": 23,
   "id": "394a8781-338c-40e7-beda-2d78900ca927",
   "metadata": {},
   "outputs": [],
   "source": [
    "for col in categorial_cols:\n",
    "    df[col]=df[col].fillna(df[col].mode()[0])"
   ]
  },
  {
   "cell_type": "code",
   "execution_count": 25,
   "id": "4f0f9a39-2c34-46da-8c9b-e79f48b7f430",
   "metadata": {},
   "outputs": [
    {
     "data": {
      "image/png": "[encoded data removed]",
      "text/plain": [
       "<Figure size 640x480 with 1 Axes>"
      ]
     },
     "metadata": {},
     "output_type": "display_data"
    },
    {
     "data": {
      "image/png": "[encoded data removed]",
      "text/plain": [
       "<Figure size 640x480 with 1 Axes>"
      ]
     },
     "metadata": {},
     "output_type": "display_data"
    },
    {
     "data": {
      "image/png": "[encoded data removed]",
      "text/plain": [
       "<Figure size 640x480 with 1 Axes>"
      ]
     },
     "metadata": {},
     "output_type": "display_data"
    },
    {
     "data": {
      "image/png": "[encoded data removed]",
      "text/plain": [
       "<Figure size 640x480 with 1 Axes>"
      ]
     },
     "metadata": {},
     "output_type": "display_data"
    },
    {
     "data": {
      "image/png": "[encoded data removed]",
      "text/plain": [
       "<Figure size 640x480 with 1 Axes>"
      ]
     },
     "metadata": {},
     "output_type": "display_data"
    },
    {
     "data": {
      "image/png": "[encoded data removed]",
      "text/plain": [
       "<Figure size 640x480 with 1 Axes>"
      ]
     },
     "metadata": {},
     "output_type": "display_data"
    }
   ],
   "source": [
    "import matplotlib.pyplot as plt\n",
    "import seaborn as sns\n",
    "for col in numeric_cols:\n",
    "    plt.figure()\n",
    "    sns.boxplot(x=df[col])\n",
    "    plt.title(f'Outliers in {col}')\n",
    "    plt.show()"
   ]
  },
  {
   "cell_type": "code",
   "execution_count": 26,
   "id": "21ce09ab-1113-41cb-b00e-fa0708ddc670",
   "metadata": {},
   "outputs": [],
   "source": [
    "for col in numeric_cols:\n",
    "    q1=df[col].quantile(0.25)\n",
    "    q3=df[col].quantile(0.75)\n",
    "    iqr=q3-q1\n",
    "    lower=q1-1.5*iqr\n",
    "    upper=q3+1.5*iqr\n",
    "    df[col]=df[col].clip(lower=lower,upper=upper)"
   ]
  },
  {
   "cell_type": "code",
   "execution_count": 27,
   "id": "b1ac3a27-fe8a-4be3-8228-b806c6d4b197",
   "metadata": {},
   "outputs": [],
   "source": [
    "df_encoded = pd.get_dummies(df, drop_first=True)"
   ]
  },
  {
   "cell_type": "code",
   "execution_count": 28,
   "id": "61ecb9df-9e16-44cc-8207-32ac753c4a71",
   "metadata": {},
   "outputs": [
    {
     "name": "stdout",
     "output_type": "stream",
     "text": [
      "   COURSE 1 MARKS  COURSE 2 MARKS  COURSE 3 MARKS  COURSE 4 MARKS  \\\n",
      "0            71.0            93.0            71.0            93.0   \n",
      "1            97.0            38.0            86.0            98.0   \n",
      "2            18.5             1.0            18.0            43.0   \n",
      "3            65.0            35.0            76.0            80.0   \n",
      "4            94.0            94.0            98.0           100.0   \n",
      "\n",
      "   COURSE 5 MARKS  PERCENTILE  STUDENT_ID_SB11201210000137  \\\n",
      "0            79.0          91                        False   \n",
      "1            78.0          92                         True   \n",
      "2            22.0           7                        False   \n",
      "3            48.0          67                        False   \n",
      "4            71.0          98                        False   \n",
      "\n",
      "   STUDENT_ID_SB11201210005154  STUDENT_ID_SB11201210007504  \\\n",
      "0                        False                        False   \n",
      "1                        False                        False   \n",
      "2                         True                        False   \n",
      "3                        False                         True   \n",
      "4                        False                        False   \n",
      "\n",
      "   STUDENT_ID_SB11201210007548  ...  ACADEMIC_PROGRAM_MECHANICAL ENGINEERING  \\\n",
      "0                        False  ...                                    False   \n",
      "1                        False  ...                                    False   \n",
      "2                        False  ...                                    False   \n",
      "3                        False  ...                                    False   \n",
      "4                         True  ...                                    False   \n",
      "\n",
      "   ACADEMIC_PROGRAM_MECHATRONICS ENGINEERING  \\\n",
      "0                                      False   \n",
      "1                                      False   \n",
      "2                                      False   \n",
      "3                                      False   \n",
      "4                                      False   \n",
      "\n",
      "   ACADEMIC_PROGRAM_PRODUCTION ENGINEERING  \\\n",
      "0                                    False   \n",
      "1                                    False   \n",
      "2                                    False   \n",
      "3                                    False   \n",
      "4                                    False   \n",
      "\n",
      "   ACADEMIC_PROGRAM_PRODUCTIVITY AND QUALITY ENGINEERING  \\\n",
      "0                                              False       \n",
      "1                                              False       \n",
      "2                                              False       \n",
      "3                                              False       \n",
      "4                                              False       \n",
      "\n",
      "   ACADEMIC_PROGRAM_TEXTILE ENGINEERING  \\\n",
      "0                                 False   \n",
      "1                                 False   \n",
      "2                                 False   \n",
      "3                                 False   \n",
      "4                                 False   \n",
      "\n",
      "   ACADEMIC_PROGRAM_TOPOGRAPHIC ENGINEERY  \\\n",
      "0                                   False   \n",
      "1                                   False   \n",
      "2                                   False   \n",
      "3                                   False   \n",
      "4                                   False   \n",
      "\n",
      "   ACADEMIC_PROGRAM_TRANSPORTATION AND ROAD ENGINEERING  \\\n",
      "0                                              False      \n",
      "1                                              False      \n",
      "2                                              False      \n",
      "3                                              False      \n",
      "4                                              False      \n",
      "\n",
      "   OVEARLL_GRADE_FIRST CLASS  OVEARLL_GRADE_SECOND CLASS  \\\n",
      "0                       True                       False   \n",
      "1                      False                       False   \n",
      "2                      False                       False   \n",
      "3                       True                       False   \n",
      "4                       True                       False   \n",
      "\n",
      "   OVEARLL_GRADE_THIRD CLASS  \n",
      "0                      False  \n",
      "1                       True  \n",
      "2                      False  \n",
      "3                      False  \n",
      "4                      False  \n",
      "\n",
      "[5 rows x 12445 columns]\n",
      "<class 'pandas.core.frame.DataFrame'>\n",
      "RangeIndex: 12411 entries, 0 to 12410\n",
      "Columns: 12445 entries, COURSE 1 MARKS to OVEARLL_GRADE_THIRD CLASS\n",
      "dtypes: bool(12439), float64(5), int64(1)\n",
      "memory usage: 147.8 MB\n",
      "None\n"
     ]
    }
   ],
   "source": [
    "print(df_encoded.head())\n",
    "print(df_encoded.info())"
   ]
  },
  {
   "cell_type": "code",
   "execution_count": null,
   "id": "fe0aace7-ea4b-40e8-959b-5b8f683ae60e",
   "metadata": {},
   "outputs": [],
   "source": []
  }
 ],
 "metadata": {
  "kernelspec": {
   "display_name": "Python 3 (ipykernel)",
   "language": "python",
   "name": "python3"
  },
  "language_info": {
   "codemirror_mode": {
    "name": "ipython",
    "version": 3
   },
   "file_extension": ".py",
   "mimetype": "text/x-python",
   "name": "python",
   "nbconvert_exporter": "python",
   "pygments_lexer": "ipython3",
   "version": "3.13.1"
  }
 },
 "nbformat": 4,
 "nbformat_minor": 5
}

{
 "cells": [
  {
   "cell_type": "code",
   "execution_count": 2,
   "id": "086e8fdd-64e0-4d80-932c-430ca2ba2659",
   "metadata": {},
   "outputs": [],
   "source": [
    "import pandas as pd\n",
    "import numpy as np\n",
    "df = pd.read_csv(r\"C:\\Users\\LENOVO\\OneDrive\\Desktop\\downloads\\Age-Income-Dataset.csv\")"
   ]
  },
  {
   "cell_type": "code",
   "execution_count": 4,
   "id": "e7f7f81b-43f7-458a-a9c0-b040e18d9656",
   "metadata": {},
   "outputs": [
    {
     "data": {
      "text/html": [
       "<div>\n",
       "<style scoped>\n",
       "    .dataframe tbody tr th:only-of-type {\n",
       "        vertical-align: middle;\n",
       "    }\n",
       "\n",
       "    .dataframe tbody tr th {\n",
       "        vertical-align: top;\n",
       "    }\n",
       "\n",
       "    .dataframe thead th {\n",
       "        text-align: right;\n",
       "    }\n",
       "</style>\n",
       "<table border=\"1\" class=\"dataframe\">\n",
       "  <thead>\n",
       "    <tr style=\"text-align: right;\">\n",
       "      <th></th>\n",
       "      <th>Income</th>\n",
       "    </tr>\n",
       "  </thead>\n",
       "  <tbody>\n",
       "    <tr>\n",
       "      <th>count</th>\n",
       "      <td>50.000000</td>\n",
       "    </tr>\n",
       "    <tr>\n",
       "      <th>mean</th>\n",
       "      <td>50966.000000</td>\n",
       "    </tr>\n",
       "    <tr>\n",
       "      <th>std</th>\n",
       "      <td>21096.683268</td>\n",
       "    </tr>\n",
       "    <tr>\n",
       "      <th>min</th>\n",
       "      <td>15000.000000</td>\n",
       "    </tr>\n",
       "    <tr>\n",
       "      <th>25%</th>\n",
       "      <td>33475.000000</td>\n",
       "    </tr>\n",
       "    <tr>\n",
       "      <th>50%</th>\n",
       "      <td>46850.000000</td>\n",
       "    </tr>\n",
       "    <tr>\n",
       "      <th>75%</th>\n",
       "      <td>65400.000000</td>\n",
       "    </tr>\n",
       "    <tr>\n",
       "      <th>max</th>\n",
       "      <td>93000.000000</td>\n",
       "    </tr>\n",
       "  </tbody>\n",
       "</table>\n",
       "</div>"
      ],
      "text/plain": [
       "             Income\n",
       "count     50.000000\n",
       "mean   50966.000000\n",
       "std    21096.683268\n",
       "min    15000.000000\n",
       "25%    33475.000000\n",
       "50%    46850.000000\n",
       "75%    65400.000000\n",
       "max    93000.000000"
      ]
     },
     "execution_count": 4,
     "metadata": {},
     "output_type": "execute_result"
    }
   ],
   "source": [
    "df.describe()"
   ]
  },
  {
   "cell_type": "code",
   "execution_count": 5,
   "id": "c00adcb2-7ce2-4c6b-9197-7f481995eda7",
   "metadata": {},
   "outputs": [
    {
     "name": "stdout",
     "output_type": "stream",
     "text": [
      "<class 'pandas.core.frame.DataFrame'>\n",
      "RangeIndex: 50 entries, 0 to 49\n",
      "Data columns (total 2 columns):\n",
      " #   Column  Non-Null Count  Dtype \n",
      "---  ------  --------------  ----- \n",
      " 0   Age     50 non-null     object\n",
      " 1   Income  50 non-null     int64 \n",
      "dtypes: int64(1), object(1)\n",
      "memory usage: 932.0+ bytes\n"
     ]
    }
   ],
   "source": [
    "df.head()\n",
    "df.info()"
   ]
  },
  {
   "cell_type": "code",
   "execution_count": 3,
   "id": "f8e35835-dea6-43c7-804f-467bdd6cdbce",
   "metadata": {},
   "outputs": [
    {
     "name": "stdout",
     "output_type": "stream",
     "text": [
      "Mean:\n",
      " Income    50966.0\n",
      "dtype: float64\n",
      "Median:\n",
      " Income    46850.0\n",
      "dtype: float64\n",
      "Minimum:\n",
      " Income    15000\n",
      "dtype: int64\n",
      "Maximum:\n",
      " Income    93000\n",
      "dtype: int64\n",
      "Standard Deviation:\n",
      " Income    21096.683268\n",
      "dtype: float64\n"
     ]
    }
   ],
   "source": [
    "#using libraries\n",
    "mean=df.mean(numeric_only=True)\n",
    "median = df.median(numeric_only=True)\n",
    "minimum = df.min(numeric_only=True)\n",
    "maximum = df.max(numeric_only=True)\n",
    "std_dev = df.std(numeric_only=True)\n",
    "\n",
    "print(\"Mean:\\n\", mean)\n",
    "print(\"Median:\\n\", median)\n",
    "print(\"Minimum:\\n\", minimum)\n",
    "print(\"Maximum:\\n\", maximum)\n",
    "print(\"Standard Deviation:\\n\", std_dev)"
   ]
  },
  {
   "cell_type": "code",
   "execution_count": 30,
   "id": "d001d870-affa-4afa-8758-3bd3e1902962",
   "metadata": {},
   "outputs": [
    {
     "name": "stdout",
     "output_type": "stream",
     "text": [
      "Age: No valid data\n",
      "Income -> Mean: 50966.00, Median: 46850.00, Min: 15000, Max: 93000\n"
     ]
    }
   ],
   "source": [
    "def summary_stats(column):\n",
    "    if len(column) == 0:  # Check if the column is empty\n",
    "        return \"No valid data\"\n",
    "    \n",
    "    values = sorted(column)\n",
    "    n = len(values)\n",
    "    mean = sum(values) / n\n",
    "    median = values[n//2] if n % 2 != 0 else (values[n//2 - 1] + values[n//2]) / 2\n",
    "    return mean, median, values[0], values[-1]\n",
    "\n",
    "for col in ['Age', 'Income']:\n",
    "    col_values = pd.to_numeric(df[col], errors='coerce').dropna().tolist()\n",
    "    stats = summary_stats(col_values)\n",
    "    \n",
    "    if stats == \"No valid data\":\n",
    "        print(f\"{col}: No valid data\")\n",
    "    else:\n",
    "        print(f\"{col} -> Mean: {stats[0]:.2f}, Median: {stats[1]:.2f}, Min: {stats[2]}, Max: {stats[3]}\")\n"
   ]
  },
  {
   "cell_type": "code",
   "execution_count": 35,
   "id": "7f098a7d-77c1-469f-b8ad-ca040d290e36",
   "metadata": {},
   "outputs": [
    {
     "data": {
      "text/html": [
       "<div>\n",
       "<style scoped>\n",
       "    .dataframe tbody tr th:only-of-type {\n",
       "        vertical-align: middle;\n",
       "    }\n",
       "\n",
       "    .dataframe tbody tr th {\n",
       "        vertical-align: top;\n",
       "    }\n",
       "\n",
       "    .dataframe thead th {\n",
       "        text-align: right;\n",
       "    }\n",
       "</style>\n",
       "<table border=\"1\" class=\"dataframe\">\n",
       "  <thead>\n",
       "    <tr style=\"text-align: right;\">\n",
       "      <th></th>\n",
       "      <th>Age</th>\n",
       "      <th>Income</th>\n",
       "      <th>AgeGroup</th>\n",
       "    </tr>\n",
       "  </thead>\n",
       "  <tbody>\n",
       "    <tr>\n",
       "      <th>0</th>\n",
       "      <td>NaN</td>\n",
       "      <td>25000</td>\n",
       "      <td>NaN</td>\n",
       "    </tr>\n",
       "    <tr>\n",
       "      <th>1</th>\n",
       "      <td>NaN</td>\n",
       "      <td>54000</td>\n",
       "      <td>NaN</td>\n",
       "    </tr>\n",
       "    <tr>\n",
       "      <th>2</th>\n",
       "      <td>NaN</td>\n",
       "      <td>60000</td>\n",
       "      <td>NaN</td>\n",
       "    </tr>\n",
       "    <tr>\n",
       "      <th>3</th>\n",
       "      <td>NaN</td>\n",
       "      <td>15000</td>\n",
       "      <td>NaN</td>\n",
       "    </tr>\n",
       "    <tr>\n",
       "      <th>4</th>\n",
       "      <td>NaN</td>\n",
       "      <td>45000</td>\n",
       "      <td>NaN</td>\n",
       "    </tr>\n",
       "  </tbody>\n",
       "</table>\n",
       "</div>"
      ],
      "text/plain": [
       "   Age  Income AgeGroup\n",
       "0  NaN   25000      NaN\n",
       "1  NaN   54000      NaN\n",
       "2  NaN   60000      NaN\n",
       "3  NaN   15000      NaN\n",
       "4  NaN   45000      NaN"
      ]
     },
     "execution_count": 35,
     "metadata": {},
     "output_type": "execute_result"
    }
   ],
   "source": [
    "df.head()\n"
   ]
  },
  {
   "cell_type": "code",
   "execution_count": 36,
   "id": "6e38c0e0-c531-41cd-97f2-d580c500eeea",
   "metadata": {},
   "outputs": [
    {
     "name": "stdout",
     "output_type": "stream",
     "text": [
      "          count  mean  std  min  25%  50%  75%  max\n",
      "AgeGroup                                           \n",
      "<20         0.0   NaN  NaN  NaN  NaN  NaN  NaN  NaN\n",
      "20-30       0.0   NaN  NaN  NaN  NaN  NaN  NaN  NaN\n",
      "30-40       0.0   NaN  NaN  NaN  NaN  NaN  NaN  NaN\n",
      "40-50       0.0   NaN  NaN  NaN  NaN  NaN  NaN  NaN\n",
      "50-60       0.0   NaN  NaN  NaN  NaN  NaN  NaN  NaN\n",
      "60+         0.0   NaN  NaN  NaN  NaN  NaN  NaN  NaN\n"
     ]
    },
    {
     "name": "stderr",
     "output_type": "stream",
     "text": [
      "C:\\Users\\LENOVO\\AppData\\Local\\Temp\\ipykernel_5152\\2423788956.py:2: FutureWarning: The default of observed=False is deprecated and will be changed to True in a future version of pandas. Pass observed=False to retain current behavior or observed=True to adopt the future default and silence this warning.\n",
      "  summary = df.groupby('AgeGroup')['Income'].describe()\n"
     ]
    }
   ],
   "source": [
    "df['AgeGroup'] = pd.cut(df['Age'], bins=[0, 20, 30, 40, 50, 60, 100], labels=['<20', '20-30', '30-40', '40-50', '50-60', '60+'], right=False)\n",
    "summary = df.groupby('AgeGroup')['Income'].describe()\n",
    "print(summary)"
   ]
  },
  {
   "cell_type": "code",
   "execution_count": 38,
   "id": "4dcfc41f-6269-4159-ba25-73049e78046e",
   "metadata": {},
   "outputs": [
    {
     "name": "stdout",
     "output_type": "stream",
     "text": [
      "Index(['Age', 'Income', 'AgeGroup'], dtype='object')\n"
     ]
    }
   ],
   "source": [
    "print(df.columns)"
   ]
  },
  {
   "cell_type": "code",
   "execution_count": 39,
   "id": "96c2cd67-700a-449c-b75f-ff6f7b336447",
   "metadata": {},
   "outputs": [
    {
     "name": "stdout",
     "output_type": "stream",
     "text": [
      "          count  mean  std  min  25%  50%  75%  max\n",
      "AgeGroup                                           \n",
      "<20         0.0   NaN  NaN  NaN  NaN  NaN  NaN  NaN\n",
      "20-30       0.0   NaN  NaN  NaN  NaN  NaN  NaN  NaN\n",
      "30-40       0.0   NaN  NaN  NaN  NaN  NaN  NaN  NaN\n",
      "40-50       0.0   NaN  NaN  NaN  NaN  NaN  NaN  NaN\n",
      "50-60       0.0   NaN  NaN  NaN  NaN  NaN  NaN  NaN\n",
      "60+         0.0   NaN  NaN  NaN  NaN  NaN  NaN  NaN\n",
      "[-1, -1, -1, -1, -1, -1, -1, -1, -1, -1, -1, -1, -1, -1, -1, -1, -1, -1, -1, -1, -1, -1, -1, -1, -1, -1, -1, -1, -1, -1, -1, -1, -1, -1, -1, -1, -1, -1, -1, -1, -1, -1, -1, -1, -1, -1, -1, -1, -1, -1]\n"
     ]
    },
    {
     "name": "stderr",
     "output_type": "stream",
     "text": [
      "C:\\Users\\LENOVO\\AppData\\Local\\Temp\\ipykernel_5152\\702016180.py:1: FutureWarning: The default of observed=False is deprecated and will be changed to True in a future version of pandas. Pass observed=False to retain current behavior or observed=True to adopt the future default and silence this warning.\n",
      "  summary = df.groupby('AgeGroup')['Income'].describe()\n"
     ]
    }
   ],
   "source": [
    "summary = df.groupby('AgeGroup')['Income'].describe()\n",
    "print(summary)\n",
    "df['AgeGroup_Encoded'] = df['AgeGroup'].astype('category').cat.codes\n",
    "print(df['AgeGroup_Encoded'].tolist())"
   ]
  },
  {
   "cell_type": "code",
   "execution_count": null,
   "id": "bb7d971e-a77a-4dae-9b7e-856a0b4f8337",
   "metadata": {},
   "outputs": [],
   "source": []
  }
 ],
 "metadata": {
  "kernelspec": {
   "display_name": "Python 3 (ipykernel)",
   "language": "python",
   "name": "python3"
  },
  "language_info": {
   "codemirror_mode": {
    "name": "ipython",
    "version": 3
   },
   "file_extension": ".py",
   "mimetype": "text/x-python",
   "name": "python",
   "nbconvert_exporter": "python",
   "pygments_lexer": "ipython3",
   "version": "3.13.1"
  }
 },
 "nbformat": 4,
 "nbformat_minor": 5
}

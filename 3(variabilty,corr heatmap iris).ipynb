{
 "cells": [
  {
   "cell_type": "code",
   "execution_count": 1,
   "id": "82319bfb-c8fb-4cdd-bc2c-6abb8f7a3243",
   "metadata": {},
   "outputs": [],
   "source": [
    "import numpy as np\n",
    "import pandas as pd\n",
    "import matplotlib.pyplot as plt\n",
    "import seaborn as sns"
   ]
  },
  {
   "cell_type": "code",
   "execution_count": 15,
   "id": "9976afac-bc91-46dd-b834-43a1c656a9e5",
   "metadata": {},
   "outputs": [],
   "source": [
    "df = pd.read_csv(r\"C:\\Users\\LENOVO\\OneDrive\\Documents\\iris.data.csv\", encoding='latin1')\n"
   ]
  },
  {
   "cell_type": "code",
   "execution_count": 16,
   "id": "b5960b65-3856-41b3-bb43-f5dc167f630a",
   "metadata": {},
   "outputs": [
    {
     "data": {
      "text/html": [
       "<div>\n",
       "<style scoped>\n",
       "    .dataframe tbody tr th:only-of-type {\n",
       "        vertical-align: middle;\n",
       "    }\n",
       "\n",
       "    .dataframe tbody tr th {\n",
       "        vertical-align: top;\n",
       "    }\n",
       "\n",
       "    .dataframe thead th {\n",
       "        text-align: right;\n",
       "    }\n",
       "</style>\n",
       "<table border=\"1\" class=\"dataframe\">\n",
       "  <thead>\n",
       "    <tr style=\"text-align: right;\">\n",
       "      <th></th>\n",
       "      <th>5.1</th>\n",
       "      <th>3.5</th>\n",
       "      <th>1.4</th>\n",
       "      <th>0.2</th>\n",
       "    </tr>\n",
       "  </thead>\n",
       "  <tbody>\n",
       "    <tr>\n",
       "      <th>count</th>\n",
       "      <td>149.000000</td>\n",
       "      <td>149.000000</td>\n",
       "      <td>149.000000</td>\n",
       "      <td>149.000000</td>\n",
       "    </tr>\n",
       "    <tr>\n",
       "      <th>mean</th>\n",
       "      <td>5.848322</td>\n",
       "      <td>3.051007</td>\n",
       "      <td>3.774497</td>\n",
       "      <td>1.205369</td>\n",
       "    </tr>\n",
       "    <tr>\n",
       "      <th>std</th>\n",
       "      <td>0.828594</td>\n",
       "      <td>0.433499</td>\n",
       "      <td>1.759651</td>\n",
       "      <td>0.761292</td>\n",
       "    </tr>\n",
       "    <tr>\n",
       "      <th>min</th>\n",
       "      <td>4.300000</td>\n",
       "      <td>2.000000</td>\n",
       "      <td>1.000000</td>\n",
       "      <td>0.100000</td>\n",
       "    </tr>\n",
       "    <tr>\n",
       "      <th>25%</th>\n",
       "      <td>5.100000</td>\n",
       "      <td>2.800000</td>\n",
       "      <td>1.600000</td>\n",
       "      <td>0.300000</td>\n",
       "    </tr>\n",
       "    <tr>\n",
       "      <th>50%</th>\n",
       "      <td>5.800000</td>\n",
       "      <td>3.000000</td>\n",
       "      <td>4.400000</td>\n",
       "      <td>1.300000</td>\n",
       "    </tr>\n",
       "    <tr>\n",
       "      <th>75%</th>\n",
       "      <td>6.400000</td>\n",
       "      <td>3.300000</td>\n",
       "      <td>5.100000</td>\n",
       "      <td>1.800000</td>\n",
       "    </tr>\n",
       "    <tr>\n",
       "      <th>max</th>\n",
       "      <td>7.900000</td>\n",
       "      <td>4.400000</td>\n",
       "      <td>6.900000</td>\n",
       "      <td>2.500000</td>\n",
       "    </tr>\n",
       "  </tbody>\n",
       "</table>\n",
       "</div>"
      ],
      "text/plain": [
       "              5.1         3.5         1.4         0.2\n",
       "count  149.000000  149.000000  149.000000  149.000000\n",
       "mean     5.848322    3.051007    3.774497    1.205369\n",
       "std      0.828594    0.433499    1.759651    0.761292\n",
       "min      4.300000    2.000000    1.000000    0.100000\n",
       "25%      5.100000    2.800000    1.600000    0.300000\n",
       "50%      5.800000    3.000000    4.400000    1.300000\n",
       "75%      6.400000    3.300000    5.100000    1.800000\n",
       "max      7.900000    4.400000    6.900000    2.500000"
      ]
     },
     "execution_count": 16,
     "metadata": {},
     "output_type": "execute_result"
    }
   ],
   "source": [
    "df.describe()"
   ]
  },
  {
   "cell_type": "code",
   "execution_count": 17,
   "id": "aadd6505-3e68-4825-b688-d2dc7a084ce6",
   "metadata": {},
   "outputs": [
    {
     "name": "stdout",
     "output_type": "stream",
     "text": [
      "<class 'pandas.core.frame.DataFrame'>\n",
      "RangeIndex: 149 entries, 0 to 148\n",
      "Data columns (total 5 columns):\n",
      " #   Column       Non-Null Count  Dtype  \n",
      "---  ------       --------------  -----  \n",
      " 0   5.1          149 non-null    float64\n",
      " 1   3.5          149 non-null    float64\n",
      " 2   1.4          149 non-null    float64\n",
      " 3   0.2          149 non-null    float64\n",
      " 4   Iris-setosa  149 non-null    object \n",
      "dtypes: float64(4), object(1)\n",
      "memory usage: 5.9+ KB\n"
     ]
    }
   ],
   "source": [
    "df.info()\n"
   ]
  },
  {
   "cell_type": "code",
   "execution_count": 18,
   "id": "1737514b-c134-42b7-90eb-f45c8b2eb4e8",
   "metadata": {},
   "outputs": [
    {
     "data": {
      "text/plain": [
       "Index(['5.1', '3.5', '1.4', '0.2', 'Iris-setosa'], dtype='object')"
      ]
     },
     "execution_count": 18,
     "metadata": {},
     "output_type": "execute_result"
    }
   ],
   "source": [
    "df.columns"
   ]
  },
  {
   "cell_type": "code",
   "execution_count": 19,
   "id": "3797c30b-559c-4a2c-9733-bc5800d7d274",
   "metadata": {},
   "outputs": [
    {
     "name": "stdout",
     "output_type": "stream",
     "text": [
      "<class 'pandas.core.frame.DataFrame'>\n",
      "RangeIndex: 149 entries, 0 to 148\n",
      "Data columns (total 5 columns):\n",
      " #   Column       Non-Null Count  Dtype  \n",
      "---  ------       --------------  -----  \n",
      " 0   5.1          149 non-null    float64\n",
      " 1   3.5          149 non-null    float64\n",
      " 2   1.4          149 non-null    float64\n",
      " 3   0.2          149 non-null    float64\n",
      " 4   Iris-setosa  149 non-null    object \n",
      "dtypes: float64(4), object(1)\n",
      "memory usage: 5.9+ KB\n"
     ]
    }
   ],
   "source": [
    "df.info()"
   ]
  },
  {
   "cell_type": "code",
   "execution_count": 20,
   "id": "c7a29a2b-9e81-4393-81de-7e1ad3837498",
   "metadata": {},
   "outputs": [
    {
     "data": {
      "text/html": [
       "<div>\n",
       "<style scoped>\n",
       "    .dataframe tbody tr th:only-of-type {\n",
       "        vertical-align: middle;\n",
       "    }\n",
       "\n",
       "    .dataframe tbody tr th {\n",
       "        vertical-align: top;\n",
       "    }\n",
       "\n",
       "    .dataframe thead th {\n",
       "        text-align: right;\n",
       "    }\n",
       "</style>\n",
       "<table border=\"1\" class=\"dataframe\">\n",
       "  <thead>\n",
       "    <tr style=\"text-align: right;\">\n",
       "      <th></th>\n",
       "      <th>5.1</th>\n",
       "      <th>3.5</th>\n",
       "      <th>1.4</th>\n",
       "      <th>0.2</th>\n",
       "      <th>Iris-setosa</th>\n",
       "    </tr>\n",
       "  </thead>\n",
       "  <tbody>\n",
       "    <tr>\n",
       "      <th>0</th>\n",
       "      <td>4.9</td>\n",
       "      <td>3.0</td>\n",
       "      <td>1.4</td>\n",
       "      <td>0.2</td>\n",
       "      <td>Iris-setosa</td>\n",
       "    </tr>\n",
       "    <tr>\n",
       "      <th>1</th>\n",
       "      <td>4.7</td>\n",
       "      <td>3.2</td>\n",
       "      <td>1.3</td>\n",
       "      <td>0.2</td>\n",
       "      <td>Iris-setosa</td>\n",
       "    </tr>\n",
       "    <tr>\n",
       "      <th>2</th>\n",
       "      <td>4.6</td>\n",
       "      <td>3.1</td>\n",
       "      <td>1.5</td>\n",
       "      <td>0.2</td>\n",
       "      <td>Iris-setosa</td>\n",
       "    </tr>\n",
       "    <tr>\n",
       "      <th>3</th>\n",
       "      <td>5.0</td>\n",
       "      <td>3.6</td>\n",
       "      <td>1.4</td>\n",
       "      <td>0.2</td>\n",
       "      <td>Iris-setosa</td>\n",
       "    </tr>\n",
       "    <tr>\n",
       "      <th>4</th>\n",
       "      <td>5.4</td>\n",
       "      <td>3.9</td>\n",
       "      <td>1.7</td>\n",
       "      <td>0.4</td>\n",
       "      <td>Iris-setosa</td>\n",
       "    </tr>\n",
       "  </tbody>\n",
       "</table>\n",
       "</div>"
      ],
      "text/plain": [
       "   5.1  3.5  1.4  0.2  Iris-setosa\n",
       "0  4.9  3.0  1.4  0.2  Iris-setosa\n",
       "1  4.7  3.2  1.3  0.2  Iris-setosa\n",
       "2  4.6  3.1  1.5  0.2  Iris-setosa\n",
       "3  5.0  3.6  1.4  0.2  Iris-setosa\n",
       "4  5.4  3.9  1.7  0.4  Iris-setosa"
      ]
     },
     "execution_count": 20,
     "metadata": {},
     "output_type": "execute_result"
    }
   ],
   "source": [
    "df.head()"
   ]
  },
  {
   "cell_type": "code",
   "execution_count": 21,
   "id": "1e30c3be-356d-4b38-91eb-bd3eec26b86a",
   "metadata": {},
   "outputs": [
    {
     "data": {
      "text/plain": [
       "5.1            0\n",
       "3.5            0\n",
       "1.4            0\n",
       "0.2            0\n",
       "Iris-setosa    0\n",
       "dtype: int64"
      ]
     },
     "execution_count": 21,
     "metadata": {},
     "output_type": "execute_result"
    }
   ],
   "source": [
    "df.isnull().sum()"
   ]
  },
  {
   "cell_type": "code",
   "execution_count": 23,
   "id": "4c8e0e79-8e0a-450d-93e5-8540444fbdcf",
   "metadata": {},
   "outputs": [
    {
     "data": {
      "text/plain": [
       "[[4.9, 3.0, 1.4, 0.2, 'Iris-setosa'],\n",
       " [4.7, 3.2, 1.3, 0.2, 'Iris-setosa'],\n",
       " [4.6, 3.1, 1.5, 0.2, 'Iris-setosa'],\n",
       " [5.0, 3.6, 1.4, 0.2, 'Iris-setosa'],\n",
       " [5.4, 3.9, 1.7, 0.4, 'Iris-setosa'],\n",
       " [4.6, 3.4, 1.4, 0.3, 'Iris-setosa'],\n",
       " [5.0, 3.4, 1.5, 0.2, 'Iris-setosa'],\n",
       " [4.4, 2.9, 1.4, 0.2, 'Iris-setosa'],\n",
       " [4.9, 3.1, 1.5, 0.1, 'Iris-setosa'],\n",
       " [5.4, 3.7, 1.5, 0.2, 'Iris-setosa'],\n",
       " [4.8, 3.4, 1.6, 0.2, 'Iris-setosa'],\n",
       " [4.8, 3.0, 1.4, 0.1, 'Iris-setosa'],\n",
       " [4.3, 3.0, 1.1, 0.1, 'Iris-setosa'],\n",
       " [5.8, 4.0, 1.2, 0.2, 'Iris-setosa'],\n",
       " [5.7, 4.4, 1.5, 0.4, 'Iris-setosa'],\n",
       " [5.4, 3.9, 1.3, 0.4, 'Iris-setosa'],\n",
       " [5.1, 3.5, 1.4, 0.3, 'Iris-setosa'],\n",
       " [5.7, 3.8, 1.7, 0.3, 'Iris-setosa'],\n",
       " [5.1, 3.8, 1.5, 0.3, 'Iris-setosa'],\n",
       " [5.4, 3.4, 1.7, 0.2, 'Iris-setosa'],\n",
       " [5.1, 3.7, 1.5, 0.4, 'Iris-setosa'],\n",
       " [4.6, 3.6, 1.0, 0.2, 'Iris-setosa'],\n",
       " [5.1, 3.3, 1.7, 0.5, 'Iris-setosa'],\n",
       " [4.8, 3.4, 1.9, 0.2, 'Iris-setosa'],\n",
       " [5.0, 3.0, 1.6, 0.2, 'Iris-setosa'],\n",
       " [5.0, 3.4, 1.6, 0.4, 'Iris-setosa'],\n",
       " [5.2, 3.5, 1.5, 0.2, 'Iris-setosa'],\n",
       " [5.2, 3.4, 1.4, 0.2, 'Iris-setosa'],\n",
       " [4.7, 3.2, 1.6, 0.2, 'Iris-setosa'],\n",
       " [4.8, 3.1, 1.6, 0.2, 'Iris-setosa'],\n",
       " [5.4, 3.4, 1.5, 0.4, 'Iris-setosa'],\n",
       " [5.2, 4.1, 1.5, 0.1, 'Iris-setosa'],\n",
       " [5.5, 4.2, 1.4, 0.2, 'Iris-setosa'],\n",
       " [4.9, 3.1, 1.5, 0.1, 'Iris-setosa'],\n",
       " [5.0, 3.2, 1.2, 0.2, 'Iris-setosa'],\n",
       " [5.5, 3.5, 1.3, 0.2, 'Iris-setosa'],\n",
       " [4.9, 3.1, 1.5, 0.1, 'Iris-setosa'],\n",
       " [4.4, 3.0, 1.3, 0.2, 'Iris-setosa'],\n",
       " [5.1, 3.4, 1.5, 0.2, 'Iris-setosa'],\n",
       " [5.0, 3.5, 1.3, 0.3, 'Iris-setosa'],\n",
       " [4.5, 2.3, 1.3, 0.3, 'Iris-setosa'],\n",
       " [4.4, 3.2, 1.3, 0.2, 'Iris-setosa'],\n",
       " [5.0, 3.5, 1.6, 0.6, 'Iris-setosa'],\n",
       " [5.1, 3.8, 1.9, 0.4, 'Iris-setosa'],\n",
       " [4.8, 3.0, 1.4, 0.3, 'Iris-setosa'],\n",
       " [5.1, 3.8, 1.6, 0.2, 'Iris-setosa'],\n",
       " [4.6, 3.2, 1.4, 0.2, 'Iris-setosa'],\n",
       " [5.3, 3.7, 1.5, 0.2, 'Iris-setosa'],\n",
       " [5.0, 3.3, 1.4, 0.2, 'Iris-setosa'],\n",
       " [7.0, 3.2, 4.7, 1.4, 'Iris-versicolor'],\n",
       " [6.4, 3.2, 4.5, 1.5, 'Iris-versicolor'],\n",
       " [6.9, 3.1, 4.9, 1.5, 'Iris-versicolor'],\n",
       " [5.5, 2.3, 4.0, 1.3, 'Iris-versicolor'],\n",
       " [6.5, 2.8, 4.6, 1.5, 'Iris-versicolor'],\n",
       " [5.7, 2.8, 4.5, 1.3, 'Iris-versicolor'],\n",
       " [6.3, 3.3, 4.7, 1.6, 'Iris-versicolor'],\n",
       " [4.9, 2.4, 3.3, 1.0, 'Iris-versicolor'],\n",
       " [6.6, 2.9, 4.6, 1.3, 'Iris-versicolor'],\n",
       " [5.2, 2.7, 3.9, 1.4, 'Iris-versicolor'],\n",
       " [5.0, 2.0, 3.5, 1.0, 'Iris-versicolor'],\n",
       " [5.9, 3.0, 4.2, 1.5, 'Iris-versicolor'],\n",
       " [6.0, 2.2, 4.0, 1.0, 'Iris-versicolor'],\n",
       " [6.1, 2.9, 4.7, 1.4, 'Iris-versicolor'],\n",
       " [5.6, 2.9, 3.6, 1.3, 'Iris-versicolor'],\n",
       " [6.7, 3.1, 4.4, 1.4, 'Iris-versicolor'],\n",
       " [5.6, 3.0, 4.5, 1.5, 'Iris-versicolor'],\n",
       " [5.8, 2.7, 4.1, 1.0, 'Iris-versicolor'],\n",
       " [6.2, 2.2, 4.5, 1.5, 'Iris-versicolor'],\n",
       " [5.6, 2.5, 3.9, 1.1, 'Iris-versicolor'],\n",
       " [5.9, 3.2, 4.8, 1.8, 'Iris-versicolor'],\n",
       " [6.1, 2.8, 4.0, 1.3, 'Iris-versicolor'],\n",
       " [6.3, 2.5, 4.9, 1.5, 'Iris-versicolor'],\n",
       " [6.1, 2.8, 4.7, 1.2, 'Iris-versicolor'],\n",
       " [6.4, 2.9, 4.3, 1.3, 'Iris-versicolor'],\n",
       " [6.6, 3.0, 4.4, 1.4, 'Iris-versicolor'],\n",
       " [6.8, 2.8, 4.8, 1.4, 'Iris-versicolor'],\n",
       " [6.7, 3.0, 5.0, 1.7, 'Iris-versicolor'],\n",
       " [6.0, 2.9, 4.5, 1.5, 'Iris-versicolor'],\n",
       " [5.7, 2.6, 3.5, 1.0, 'Iris-versicolor'],\n",
       " [5.5, 2.4, 3.8, 1.1, 'Iris-versicolor'],\n",
       " [5.5, 2.4, 3.7, 1.0, 'Iris-versicolor'],\n",
       " [5.8, 2.7, 3.9, 1.2, 'Iris-versicolor'],\n",
       " [6.0, 2.7, 5.1, 1.6, 'Iris-versicolor'],\n",
       " [5.4, 3.0, 4.5, 1.5, 'Iris-versicolor'],\n",
       " [6.0, 3.4, 4.5, 1.6, 'Iris-versicolor'],\n",
       " [6.7, 3.1, 4.7, 1.5, 'Iris-versicolor'],\n",
       " [6.3, 2.3, 4.4, 1.3, 'Iris-versicolor'],\n",
       " [5.6, 3.0, 4.1, 1.3, 'Iris-versicolor'],\n",
       " [5.5, 2.5, 4.0, 1.3, 'Iris-versicolor'],\n",
       " [5.5, 2.6, 4.4, 1.2, 'Iris-versicolor'],\n",
       " [6.1, 3.0, 4.6, 1.4, 'Iris-versicolor'],\n",
       " [5.8, 2.6, 4.0, 1.2, 'Iris-versicolor'],\n",
       " [5.0, 2.3, 3.3, 1.0, 'Iris-versicolor'],\n",
       " [5.6, 2.7, 4.2, 1.3, 'Iris-versicolor'],\n",
       " [5.7, 3.0, 4.2, 1.2, 'Iris-versicolor'],\n",
       " [5.7, 2.9, 4.2, 1.3, 'Iris-versicolor'],\n",
       " [6.2, 2.9, 4.3, 1.3, 'Iris-versicolor'],\n",
       " [5.1, 2.5, 3.0, 1.1, 'Iris-versicolor'],\n",
       " [5.7, 2.8, 4.1, 1.3, 'Iris-versicolor'],\n",
       " [6.3, 3.3, 6.0, 2.5, 'Iris-virginica'],\n",
       " [5.8, 2.7, 5.1, 1.9, 'Iris-virginica'],\n",
       " [7.1, 3.0, 5.9, 2.1, 'Iris-virginica'],\n",
       " [6.3, 2.9, 5.6, 1.8, 'Iris-virginica'],\n",
       " [6.5, 3.0, 5.8, 2.2, 'Iris-virginica'],\n",
       " [7.6, 3.0, 6.6, 2.1, 'Iris-virginica'],\n",
       " [4.9, 2.5, 4.5, 1.7, 'Iris-virginica'],\n",
       " [7.3, 2.9, 6.3, 1.8, 'Iris-virginica'],\n",
       " [6.7, 2.5, 5.8, 1.8, 'Iris-virginica'],\n",
       " [7.2, 3.6, 6.1, 2.5, 'Iris-virginica'],\n",
       " [6.5, 3.2, 5.1, 2.0, 'Iris-virginica'],\n",
       " [6.4, 2.7, 5.3, 1.9, 'Iris-virginica'],\n",
       " [6.8, 3.0, 5.5, 2.1, 'Iris-virginica'],\n",
       " [5.7, 2.5, 5.0, 2.0, 'Iris-virginica'],\n",
       " [5.8, 2.8, 5.1, 2.4, 'Iris-virginica'],\n",
       " [6.4, 3.2, 5.3, 2.3, 'Iris-virginica'],\n",
       " [6.5, 3.0, 5.5, 1.8, 'Iris-virginica'],\n",
       " [7.7, 3.8, 6.7, 2.2, 'Iris-virginica'],\n",
       " [7.7, 2.6, 6.9, 2.3, 'Iris-virginica'],\n",
       " [6.0, 2.2, 5.0, 1.5, 'Iris-virginica'],\n",
       " [6.9, 3.2, 5.7, 2.3, 'Iris-virginica'],\n",
       " [5.6, 2.8, 4.9, 2.0, 'Iris-virginica'],\n",
       " [7.7, 2.8, 6.7, 2.0, 'Iris-virginica'],\n",
       " [6.3, 2.7, 4.9, 1.8, 'Iris-virginica'],\n",
       " [6.7, 3.3, 5.7, 2.1, 'Iris-virginica'],\n",
       " [7.2, 3.2, 6.0, 1.8, 'Iris-virginica'],\n",
       " [6.2, 2.8, 4.8, 1.8, 'Iris-virginica'],\n",
       " [6.1, 3.0, 4.9, 1.8, 'Iris-virginica'],\n",
       " [6.4, 2.8, 5.6, 2.1, 'Iris-virginica'],\n",
       " [7.2, 3.0, 5.8, 1.6, 'Iris-virginica'],\n",
       " [7.4, 2.8, 6.1, 1.9, 'Iris-virginica'],\n",
       " [7.9, 3.8, 6.4, 2.0, 'Iris-virginica'],\n",
       " [6.4, 2.8, 5.6, 2.2, 'Iris-virginica'],\n",
       " [6.3, 2.8, 5.1, 1.5, 'Iris-virginica'],\n",
       " [6.1, 2.6, 5.6, 1.4, 'Iris-virginica'],\n",
       " [7.7, 3.0, 6.1, 2.3, 'Iris-virginica'],\n",
       " [6.3, 3.4, 5.6, 2.4, 'Iris-virginica'],\n",
       " [6.4, 3.1, 5.5, 1.8, 'Iris-virginica'],\n",
       " [6.0, 3.0, 4.8, 1.8, 'Iris-virginica'],\n",
       " [6.9, 3.1, 5.4, 2.1, 'Iris-virginica'],\n",
       " [6.7, 3.1, 5.6, 2.4, 'Iris-virginica'],\n",
       " [6.9, 3.1, 5.1, 2.3, 'Iris-virginica'],\n",
       " [5.8, 2.7, 5.1, 1.9, 'Iris-virginica'],\n",
       " [6.8, 3.2, 5.9, 2.3, 'Iris-virginica'],\n",
       " [6.7, 3.3, 5.7, 2.5, 'Iris-virginica'],\n",
       " [6.7, 3.0, 5.2, 2.3, 'Iris-virginica'],\n",
       " [6.3, 2.5, 5.0, 1.9, 'Iris-virginica'],\n",
       " [6.5, 3.0, 5.2, 2.0, 'Iris-virginica'],\n",
       " [6.2, 3.4, 5.4, 2.3, 'Iris-virginica'],\n",
       " [5.9, 3.0, 5.1, 1.8, 'Iris-virginica']]"
      ]
     },
     "execution_count": 23,
     "metadata": {},
     "output_type": "execute_result"
    }
   ],
   "source": [
    "df.dropna().values.tolist()"
   ]
  },
  {
   "cell_type": "code",
   "execution_count": 25,
   "id": "f4670fcb-e185-4055-bf1d-abafa91e718b",
   "metadata": {},
   "outputs": [],
   "source": [
    "\n",
    "df.columns = ['sepal_length', 'sepal_width', 'petal_length', 'petal_width', 'species']\n"
   ]
  },
  {
   "cell_type": "code",
   "execution_count": 30,
   "id": "f5444001-6a68-417c-9d66-4b8f32d007ed",
   "metadata": {},
   "outputs": [
    {
     "name": "stdout",
     "output_type": "stream",
     "text": [
      "                 sepal_length  sepal_width  petal_length  petal_width\n",
      "species                                                              \n",
      "Iris-setosa          5.004082     3.416327      1.465306     0.244898\n",
      "Iris-versicolor      5.936000     2.770000      4.260000     1.326000\n",
      "Iris-virginica       6.588000     2.974000      5.552000     2.026000\n",
      "                 sepal_length  sepal_width  petal_length  petal_width\n",
      "species                                                              \n",
      "Iris-setosa          0.355879     0.384787      0.175061     0.108130\n",
      "Iris-versicolor      0.516171     0.313798      0.469911     0.197753\n",
      "Iris-virginica       0.635880     0.322497      0.551895     0.274650\n",
      "                 sepal_length  sepal_width  petal_length  petal_width\n",
      "species                                                              \n",
      "Iris-setosa               5.0          3.4          1.50          0.2\n",
      "Iris-versicolor           5.9          2.8          4.35          1.3\n",
      "Iris-virginica            6.5          3.0          5.55          2.0\n",
      "Range:\n",
      "                  sepal_length  sepal_width  petal_length  petal_width\n",
      "species                                                              \n",
      "Iris-setosa               1.5          2.1           0.9          0.5\n",
      "Iris-versicolor           2.1          1.4           2.1          0.8\n",
      "Iris-virginica            3.0          1.6           2.4          1.1\n",
      "IQR:\n",
      "                  sepal_length  sepal_width  petal_length  petal_width\n",
      "species                                                              \n",
      "Iris-setosa             0.400        0.600         0.200          0.1\n",
      "Iris-versicolor         0.700        0.475         0.600          0.3\n",
      "Iris-virginica          0.675        0.375         0.775          0.5\n"
     ]
    },
    {
     "data": {
      "image/png": "[encoded data removed]",
      "text/plain": [
       "<Figure size 640x480 with 1 Axes>"
      ]
     },
     "metadata": {},
     "output_type": "display_data"
    }
   ],
   "source": [
    "# Basic stats\n",
    "print(df.groupby('species').mean())\n",
    "print(df.groupby('species').std())\n",
    "print(df.groupby('species').median())\n",
    "\n",
    "# Variability measures\n",
    "print(\"Range:\\n\", df.groupby('species').max() - df.groupby('species').min())\n",
    "print(\"IQR:\\n\", df.groupby('species').quantile(0.75) - df.groupby('species').quantile(0.25))\n",
    "sns.boxplot(x='species', y='sepal_length', data=df)\n",
    "plt.title('Sepal Length Variability by Species')\n",
    "plt.show()\n"
   ]
  },
  {
   "cell_type": "code",
   "execution_count": 32,
   "id": "60fc3419-7143-4c58-9169-3dec52fd42b5",
   "metadata": {},
   "outputs": [
    {
     "data": {
      "image/png": "[encoded data removed]",
      "text/plain": [
       "<Figure size 640x480 with 2 Axes>"
      ]
     },
     "metadata": {},
     "output_type": "display_data"
    }
   ],
   "source": [
    "# Correlation heatmap\n",
    "sns.heatmap(df.corr(numeric_only=True), annot=True)\n",
    "plt.show()"
   ]
  },
  {
   "cell_type": "code",
   "execution_count": null,
   "id": "7ae2ab56-c996-46fc-a8a7-2a3fe2ccd334",
   "metadata": {},
   "outputs": [],
   "source": []
  }
 ],
 "metadata": {
  "kernelspec": {
   "display_name": "Python 3 (ipykernel)",
   "language": "python",
   "name": "python3"
  },
  "language_info": {
   "codemirror_mode": {
    "name": "ipython",
    "version": 3
   },
   "file_extension": ".py",
   "mimetype": "text/x-python",
   "name": "python",
   "nbconvert_exporter": "python",
   "pygments_lexer": "ipython3",
   "version": "3.13.1"
  }
 },
 "nbformat": 4,
 "nbformat_minor": 5
}
